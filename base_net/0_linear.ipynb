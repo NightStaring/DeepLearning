{
 "cells": [
  {
   "cell_type": "markdown",
   "id": "48e65cb2",
   "metadata": {},
   "source": [
    "# 全连接层"
   ]
  },
  {
   "cell_type": "code",
   "execution_count": 2,
   "id": "4341a675",
   "metadata": {},
   "outputs": [],
   "source": [
    "from torch import nn\n",
    "import torch\n",
    "\n",
    "\n",
    "class Linear(nn.Module):\n",
    "    \"\"\"\n",
    "        全连接层\n",
    "        定义权重和偏置\n",
    "        实现全连接层的前向传播\n",
    "    \"\"\"\n",
    "    def __init__(self, in_features, out_features):\n",
    "        \"\"\"\n",
    "        根据参数初始化全连接层\n",
    "\n",
    "        Args:\n",
    "            in_features: 输入维度\n",
    "            out_features: 输入维度\n",
    "        \"\"\"\n",
    "        super().__init__()\n",
    "        self.weight = nn.Parameter(torch.randn(out_features, in_features))\n",
    "        self.bias = nn.Parameter(torch.randn(out_features))\n",
    "\n",
    "    def forward(self, X):\n",
    "        \"\"\"\n",
    "        X.shape = (batch_size, in_features)\n",
    "\n",
    "        Args:\n",
    "            X: 前向传播过程中输入的数据，形状应为 (batch_size, in_features)\n",
    "\n",
    "        Returns:\n",
    "            经过全连接层输出的数据，形状应为 (batch_size, out_features)\n",
    "        \"\"\"\n",
    "        return X @ self.weight.t() + self.bias\n",
    "        "
   ]
  }
 ],
 "metadata": {
  "kernelspec": {
   "display_name": "dl",
   "language": "python",
   "name": "python3"
  },
  "language_info": {
   "codemirror_mode": {
    "name": "ipython",
    "version": 3
   },
   "file_extension": ".py",
   "mimetype": "text/x-python",
   "name": "python",
   "nbconvert_exporter": "python",
   "pygments_lexer": "ipython3",
   "version": "3.10.17"
  }
 },
 "nbformat": 4,
 "nbformat_minor": 5
}
