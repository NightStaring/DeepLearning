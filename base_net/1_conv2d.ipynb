{
 "cells": [
  {
   "cell_type": "markdown",
   "id": "c738d9fd",
   "metadata": {},
   "source": [
    "# 卷积层实现"
   ]
  },
  {
   "cell_type": "code",
   "execution_count": 2,
   "id": "01c93d45",
   "metadata": {},
   "outputs": [],
   "source": [
    "from torch import nn\n",
    "import torch\n",
    "\n",
    "\n",
    "class Conv2D(nn.Module):\n",
    "    \"\"\"\n",
    "    二维卷积层实现\n",
    "    \"\"\"\n",
    "    def __init__(self, in_channels, out_channels, kernel_size, stride, padding):\n",
    "        \"\"\"\n",
    "        根据参数初始化卷积层参数\n",
    "        \"\"\"\n",
    "        self.in_channels = in_channels\n",
    "        self.out_channels = out_channels\n",
    "        self.kernel_size = kernel_size if isinstance(kernel_size, tuple) else (kernel_size, kernel_size)\n",
    "        self.stride = stride if isinstance(stride, tuple) else (stride, stride)\n",
    "        self.padding = padding if isinstance(padding, tuple) else (padding, padding)\n",
    "\n",
    "        self.weight = nn.Parameter(\n",
    "            torch.randn(out_channels, in_channels, *self.kernel_size)\n",
    "        )\n",
    "\n",
    "\n",
    "    def forward(self, X):\n",
    "        \"\"\"\n",
    "        前向传播, X.shape = (batch_size, in_channels, height, width)\n",
    "        \"\"\"\n",
    "        batch, in_C, in_H, in_W = X.shape\n",
    "        kernel_H, kernel_W = self.kernel_size\n",
    "        stride_H, stride_W = self.stride\n",
    "        padding_H, padding_W = self.padding\n",
    "\n",
    "        # 进行填充\n",
    "        temp = torch.zeros(batch, in_C, in_H + padding_H * 2, in_W + padding_W * 2, device=X.device)\n",
    "        temp[:, :, padding_H:in_H+padding_H, padding_W:in_W+padding_W] = X\n",
    "        X = temp\n",
    "\n",
    "        # 输出张量初始化\n",
    "        out = torch.zeros(\n",
    "            batch,\n",
    "            self.out_channels,\n",
    "            (in_H - kernel_H + padding_H * 2) // stride_H + 1,\n",
    "            (in_W - kernel_W + padding_W * 2) // stride_W + 1,\n",
    "            device=X.device\n",
    "        )\n",
    "\n",
    "        # 进行遍历卷积\n",
    "        for i in range(out.shape[2]):\n",
    "            for j in range(out.shape[3]):\n",
    "                h_start = i * kernel_H\n",
    "                h_end = (i + 1) * kernel_H\n",
    "                w_start = j * kernel_W\n",
    "                w_end = (j + 1) * kernel_W\n",
    "\n",
    "                for b in range(out.shape[0]):\n",
    "                    for c in range(out.shape[1]):\n",
    "                        out[b, c, i, j] = torch.sum(X[b, :, h_start:h_end, w_start, w_end] * self.weight[c])\n",
    "\n",
    "        return out"
   ]
  }
 ],
 "metadata": {
  "kernelspec": {
   "display_name": "dl",
   "language": "python",
   "name": "python3"
  },
  "language_info": {
   "codemirror_mode": {
    "name": "ipython",
    "version": 3
   },
   "file_extension": ".py",
   "mimetype": "text/x-python",
   "name": "python",
   "nbconvert_exporter": "python",
   "pygments_lexer": "ipython3",
   "version": "3.10.17"
  }
 },
 "nbformat": 4,
 "nbformat_minor": 5
}
